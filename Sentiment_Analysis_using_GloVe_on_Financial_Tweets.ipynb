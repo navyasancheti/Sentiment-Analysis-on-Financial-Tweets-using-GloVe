{
  "nbformat": 4,
  "nbformat_minor": 0,
  "metadata": {
    "colab": {
      "name": "Sentiment Analysis using GloVe on Financial Tweets.ipynb",
      "provenance": [],
      "collapsed_sections": [
        "EodvE1KugI3S"
      ]
    },
    "kernelspec": {
      "name": "python3",
      "display_name": "Python 3"
    },
    "accelerator": "GPU"
  },
  "cells": [
    {
      "cell_type": "code",
      "metadata": {
        "id": "APNTJsNAzd2o",
        "colab_type": "code",
        "outputId": "242a81be-90df-44fb-d9aa-f1b0fce06cec",
        "colab": {
          "resources": {
            "http://localhost:8080/nbextensions/google.colab/files.js": {
              "data": "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",
              "ok": true,
              "headers": [
                [
                  "content-type",
                  "application/javascript"
                ]
              ],
              "status": 200,
              "status_text": ""
            }
          },
          "base_uri": "https://localhost:8080/",
          "height": 91
        }
      },
      "source": [
        "from google.colab import files\n",
        "\n",
        "uploaded = files.upload()\n",
        "\n",
        "for fn in uploaded.keys():\n",
        "  print('User uploaded file \"{name}\" with length {length} bytes'.format(\n",
        "      name=fn, length=len(uploaded[fn])))"
      ],
      "execution_count": 1,
      "outputs": [
        {
          "output_type": "display_data",
          "data": {
            "text/html": [
              "\n",
              "     <input type=\"file\" id=\"files-9a8d90c2-7144-4c64-b54f-6e7d0a21f996\" name=\"files[]\" multiple disabled />\n",
              "     <output id=\"result-9a8d90c2-7144-4c64-b54f-6e7d0a21f996\">\n",
              "      Upload widget is only available when the cell has been executed in the\n",
              "      current browser session. Please rerun this cell to enable.\n",
              "      </output>\n",
              "      <script src=\"/nbextensions/google.colab/files.js\"></script> "
            ],
            "text/plain": [
              "<IPython.core.display.HTML object>"
            ]
          },
          "metadata": {
            "tags": []
          }
        },
        {
          "output_type": "stream",
          "text": [
            "Saving all-data.csv to all-data.csv\n",
            "User uploaded file \"all-data.csv\" with length 672006 bytes\n"
          ],
          "name": "stdout"
        }
      ]
    },
    {
      "cell_type": "code",
      "metadata": {
        "id": "3_qZeGRP0Qwz",
        "colab_type": "code",
        "outputId": "7a97e709-4b74-4826-975b-5486c465cf4d",
        "colab": {
          "base_uri": "https://localhost:8080/",
          "height": 102
        }
      },
      "source": [
        "#importing libraries\n",
        "import nltk\n",
        "nltk.download('stopwords')\n",
        "import nltk\n",
        "nltk.download('wordnet')\n",
        "\n",
        "import pandas as pd\n",
        "import numpy as np\n",
        "import matplotlib.pyplot as plt\n",
        "from sklearn import preprocessing\n",
        "import re\n",
        "from nltk.stem import WordNetLemmatizer\n",
        "from nltk.tokenize import RegexpTokenizer\n",
        "from nltk.corpus import stopwords\n",
        "from keras.preprocessing.text import Tokenizer\n",
        "from keras.preprocessing.sequence import pad_sequences\n",
        "\n",
        "import keras\n",
        "import random\n",
        "from keras import models\n",
        "from keras import layers"
      ],
      "execution_count": 2,
      "outputs": [
        {
          "output_type": "stream",
          "text": [
            "[nltk_data] Downloading package stopwords to /root/nltk_data...\n",
            "[nltk_data]   Unzipping corpora/stopwords.zip.\n",
            "[nltk_data] Downloading package wordnet to /root/nltk_data...\n",
            "[nltk_data]   Unzipping corpora/wordnet.zip.\n"
          ],
          "name": "stdout"
        },
        {
          "output_type": "stream",
          "text": [
            "Using TensorFlow backend.\n"
          ],
          "name": "stderr"
        }
      ]
    },
    {
      "cell_type": "markdown",
      "metadata": {
        "id": "kr1sPUE_e30R",
        "colab_type": "text"
      },
      "source": [
        "### **Importing Dataset**"
      ]
    },
    {
      "cell_type": "code",
      "metadata": {
        "id": "rMiSGWxC0UJf",
        "colab_type": "code",
        "outputId": "70dcc898-f2c0-4f77-f2b2-b6fce58c07ff",
        "colab": {
          "base_uri": "https://localhost:8080/",
          "height": 204
        }
      },
      "source": [
        "df=pd.read_csv(\"all-data.csv\", encoding='latin-1', header=None)\n",
        "df.columns=[\"Sentiment\",\"News Headlines\"]\n",
        "df.head()\n",
        "#(4846, 2)"
      ],
      "execution_count": 3,
      "outputs": [
        {
          "output_type": "execute_result",
          "data": {
            "text/html": [
              "<div>\n",
              "<style scoped>\n",
              "    .dataframe tbody tr th:only-of-type {\n",
              "        vertical-align: middle;\n",
              "    }\n",
              "\n",
              "    .dataframe tbody tr th {\n",
              "        vertical-align: top;\n",
              "    }\n",
              "\n",
              "    .dataframe thead th {\n",
              "        text-align: right;\n",
              "    }\n",
              "</style>\n",
              "<table border=\"1\" class=\"dataframe\">\n",
              "  <thead>\n",
              "    <tr style=\"text-align: right;\">\n",
              "      <th></th>\n",
              "      <th>Sentiment</th>\n",
              "      <th>News Headlines</th>\n",
              "    </tr>\n",
              "  </thead>\n",
              "  <tbody>\n",
              "    <tr>\n",
              "      <th>0</th>\n",
              "      <td>neutral</td>\n",
              "      <td>According to Gran , the company has no plans t...</td>\n",
              "    </tr>\n",
              "    <tr>\n",
              "      <th>1</th>\n",
              "      <td>neutral</td>\n",
              "      <td>Technopolis plans to develop in stages an area...</td>\n",
              "    </tr>\n",
              "    <tr>\n",
              "      <th>2</th>\n",
              "      <td>negative</td>\n",
              "      <td>The international electronic industry company ...</td>\n",
              "    </tr>\n",
              "    <tr>\n",
              "      <th>3</th>\n",
              "      <td>positive</td>\n",
              "      <td>With the new production plant the company woul...</td>\n",
              "    </tr>\n",
              "    <tr>\n",
              "      <th>4</th>\n",
              "      <td>positive</td>\n",
              "      <td>According to the company 's updated strategy f...</td>\n",
              "    </tr>\n",
              "  </tbody>\n",
              "</table>\n",
              "</div>"
            ],
            "text/plain": [
              "  Sentiment                                     News Headlines\n",
              "0   neutral  According to Gran , the company has no plans t...\n",
              "1   neutral  Technopolis plans to develop in stages an area...\n",
              "2  negative  The international electronic industry company ...\n",
              "3  positive  With the new production plant the company woul...\n",
              "4  positive  According to the company 's updated strategy f..."
            ]
          },
          "metadata": {
            "tags": []
          },
          "execution_count": 3
        }
      ]
    },
    {
      "cell_type": "code",
      "metadata": {
        "id": "PDCj6lXD0akP",
        "colab_type": "code",
        "outputId": "517cb527-a840-40ec-ba84-bdf1fcbc8faa",
        "colab": {
          "base_uri": "https://localhost:8080/",
          "height": 170
        }
      },
      "source": [
        "df.info()"
      ],
      "execution_count": 4,
      "outputs": [
        {
          "output_type": "stream",
          "text": [
            "<class 'pandas.core.frame.DataFrame'>\n",
            "RangeIndex: 4846 entries, 0 to 4845\n",
            "Data columns (total 2 columns):\n",
            " #   Column          Non-Null Count  Dtype \n",
            "---  ------          --------------  ----- \n",
            " 0   Sentiment       4846 non-null   object\n",
            " 1   News Headlines  4846 non-null   object\n",
            "dtypes: object(2)\n",
            "memory usage: 75.8+ KB\n"
          ],
          "name": "stdout"
        }
      ]
    },
    {
      "cell_type": "code",
      "metadata": {
        "id": "DE_KI9oy1XS8",
        "colab_type": "code",
        "outputId": "c175e592-4012-4da7-eb3d-09e4230e4511",
        "colab": {
          "base_uri": "https://localhost:8080/",
          "height": 173
        }
      },
      "source": [
        "df.describe()"
      ],
      "execution_count": 5,
      "outputs": [
        {
          "output_type": "execute_result",
          "data": {
            "text/html": [
              "<div>\n",
              "<style scoped>\n",
              "    .dataframe tbody tr th:only-of-type {\n",
              "        vertical-align: middle;\n",
              "    }\n",
              "\n",
              "    .dataframe tbody tr th {\n",
              "        vertical-align: top;\n",
              "    }\n",
              "\n",
              "    .dataframe thead th {\n",
              "        text-align: right;\n",
              "    }\n",
              "</style>\n",
              "<table border=\"1\" class=\"dataframe\">\n",
              "  <thead>\n",
              "    <tr style=\"text-align: right;\">\n",
              "      <th></th>\n",
              "      <th>Sentiment</th>\n",
              "      <th>News Headlines</th>\n",
              "    </tr>\n",
              "  </thead>\n",
              "  <tbody>\n",
              "    <tr>\n",
              "      <th>count</th>\n",
              "      <td>4846</td>\n",
              "      <td>4846</td>\n",
              "    </tr>\n",
              "    <tr>\n",
              "      <th>unique</th>\n",
              "      <td>3</td>\n",
              "      <td>4838</td>\n",
              "    </tr>\n",
              "    <tr>\n",
              "      <th>top</th>\n",
              "      <td>neutral</td>\n",
              "      <td>SSH Communications Security Corporation is hea...</td>\n",
              "    </tr>\n",
              "    <tr>\n",
              "      <th>freq</th>\n",
              "      <td>2879</td>\n",
              "      <td>2</td>\n",
              "    </tr>\n",
              "  </tbody>\n",
              "</table>\n",
              "</div>"
            ],
            "text/plain": [
              "       Sentiment                                     News Headlines\n",
              "count       4846                                               4846\n",
              "unique         3                                               4838\n",
              "top      neutral  SSH Communications Security Corporation is hea...\n",
              "freq        2879                                                  2"
            ]
          },
          "metadata": {
            "tags": []
          },
          "execution_count": 5
        }
      ]
    },
    {
      "cell_type": "code",
      "metadata": {
        "id": "1i3qvqNb1ZXK",
        "colab_type": "code",
        "outputId": "a62471d4-87d1-40a0-a512-905daba7002b",
        "colab": {
          "base_uri": "https://localhost:8080/",
          "height": 318
        }
      },
      "source": [
        "df.Sentiment.value_counts().plot(kind=\"bar\")"
      ],
      "execution_count": 6,
      "outputs": [
        {
          "output_type": "execute_result",
          "data": {
            "text/plain": [
              "<matplotlib.axes._subplots.AxesSubplot at 0x7ff74558a5f8>"
            ]
          },
          "metadata": {
            "tags": []
          },
          "execution_count": 6
        },
        {
          "output_type": "display_data",
          "data": {
            "image/png": "[encoded data removed]",
            "text/plain": [
              "<Figure size 432x288 with 1 Axes>"
            ]
          },
          "metadata": {
            "tags": [],
            "needs_background": "light"
          }
        }
      ]
    },
    {
      "cell_type": "code",
      "metadata": {
        "id": "8AZItyCG2OAE",
        "colab_type": "code",
        "colab": {}
      },
      "source": [
        "X=df[\"News Headlines\"]\n",
        "y=df[\"Sentiment\"]"
      ],
      "execution_count": 0,
      "outputs": []
    },
    {
      "cell_type": "markdown",
      "metadata": {
        "id": "rEYaAlgdfKRj",
        "colab_type": "text"
      },
      "source": [
        "### **Text Preprocessing**"
      ]
    },
    {
      "cell_type": "code",
      "metadata": {
        "id": "DqMdPRYW1sRa",
        "colab_type": "code",
        "colab": {}
      },
      "source": [
        "#remove numbers, remove units and percentage signs\n",
        "\n",
        "def text_cleaning(text):\n",
        "\n",
        "  text=re.sub(r\"[^a-zA-Z]\",\" \",text.lower())\n",
        "  text=re.sub(r\" ml?n? \",\" \",text)\n",
        "  text=re.sub(r\" eur[0-9]? \",\" \",text)\n",
        "  text=re.sub(r'\\s+', ' ', text)\n",
        "\n",
        "  return text\n",
        "X=X.apply(lambda z:text_cleaning(z) )  \n",
        "\n",
        "\n",
        "#Lemmatization\n",
        "lemmatizer=WordNetLemmatizer()\n",
        "def lematizing(text):\n",
        "  lem_text=[lemmatizer.lemmatize(i) for i in text.split()]\n",
        "  return lem_text\n",
        "X=  X.apply(lambda z : lematizing(z))\n",
        "\n",
        "\n",
        "#Removing stop words \n",
        "stop = stopwords.words('english')\n",
        "X = X.apply(lambda x: [item for item in x if item not in stop])\n",
        "\n",
        "\n"
      ],
      "execution_count": 0,
      "outputs": []
    },
    {
      "cell_type": "code",
      "metadata": {
        "id": "Im7CCilHtXvD",
        "colab_type": "code",
        "colab": {}
      },
      "source": [
        "X=X.apply(lambda x: \" \".join(x) ) "
      ],
      "execution_count": 0,
      "outputs": []
    },
    {
      "cell_type": "code",
      "metadata": {
        "id": "_fireMnWitZK",
        "colab_type": "code",
        "outputId": "545a1c1f-18b2-45bc-ddd0-328657ba6afc",
        "colab": {
          "base_uri": "https://localhost:8080/",
          "height": 139
        }
      },
      "source": [
        "X.values[:5]"
      ],
      "execution_count": 12,
      "outputs": [
        {
          "output_type": "execute_result",
          "data": {
            "text/plain": [
              "array(['according gran company ha plan move production russia although company growing',\n",
              "       'technopolis plan develop stage area le square meter order host company working computer technology telecommunication statement said',\n",
              "       'international electronic industry company elcoteq ha laid ten employee tallinn facility contrary earlier layoff company contracted rank office worker daily postimees reported',\n",
              "       'new production plant company would increase capacity meet expected increase demand would improve use raw material therefore increase production profitability',\n",
              "       'according company updated strategy year basware target long term net sale growth range operating profit margin net sale'],\n",
              "      dtype=object)"
            ]
          },
          "metadata": {
            "tags": []
          },
          "execution_count": 12
        }
      ]
    },
    {
      "cell_type": "markdown",
      "metadata": {
        "id": "TjcegSqTfvkh",
        "colab_type": "text"
      },
      "source": [
        "### **Importing GloVe in Colab**"
      ]
    },
    {
      "cell_type": "code",
      "metadata": {
        "id": "laMH2T66KMAs",
        "colab_type": "code",
        "outputId": "0d984d6f-85ff-4a4c-b592-26905a42c59d",
        "colab": {
          "base_uri": "https://localhost:8080/",
          "height": 357
        }
      },
      "source": [
        "!wget http://nlp.stanford.edu/data/glove.6B.zip"
      ],
      "execution_count": 13,
      "outputs": [
        {
          "output_type": "stream",
          "text": [
            "--2020-05-18 19:50:29--  http://nlp.stanford.edu/data/glove.6B.zip\n",
            "Resolving nlp.stanford.edu (nlp.stanford.edu)... 171.64.67.140\n",
            "Connecting to nlp.stanford.edu (nlp.stanford.edu)|171.64.67.140|:80... connected.\n",
            "HTTP request sent, awaiting response... 302 Found\n",
            "Location: https://nlp.stanford.edu/data/glove.6B.zip [following]\n",
            "--2020-05-18 19:50:29--  https://nlp.stanford.edu/data/glove.6B.zip\n",
            "Connecting to nlp.stanford.edu (nlp.stanford.edu)|171.64.67.140|:443... connected.\n",
            "HTTP request sent, awaiting response... 301 Moved Permanently\n",
            "Location: http://downloads.cs.stanford.edu/nlp/data/glove.6B.zip [following]\n",
            "--2020-05-18 19:50:29--  http://downloads.cs.stanford.edu/nlp/data/glove.6B.zip\n",
            "Resolving downloads.cs.stanford.edu (downloads.cs.stanford.edu)... 171.64.64.22\n",
            "Connecting to downloads.cs.stanford.edu (downloads.cs.stanford.edu)|171.64.64.22|:80... connected.\n",
            "HTTP request sent, awaiting response... 200 OK\n",
            "Length: 862182613 (822M) [application/zip]\n",
            "Saving to: ‘glove.6B.zip’\n",
            "\n",
            "glove.6B.zip        100%[===================>] 822.24M  1.97MB/s    in 6m 26s  \n",
            "\n",
            "2020-05-18 19:56:56 (2.13 MB/s) - ‘glove.6B.zip’ saved [862182613/862182613]\n",
            "\n"
          ],
          "name": "stdout"
        }
      ]
    },
    {
      "cell_type": "code",
      "metadata": {
        "id": "8RVULqR1KMp6",
        "colab_type": "code",
        "outputId": "c2364144-3136-4409-a353-11b6e95d91d0",
        "colab": {
          "base_uri": "https://localhost:8080/",
          "height": 102
        }
      },
      "source": [
        "!unzip glove*.zip"
      ],
      "execution_count": 14,
      "outputs": [
        {
          "output_type": "stream",
          "text": [
            "Archive:  glove.6B.zip\n",
            "  inflating: glove.6B.50d.txt        \n",
            "  inflating: glove.6B.100d.txt       \n",
            "  inflating: glove.6B.200d.txt       \n",
            "  inflating: glove.6B.300d.txt       \n"
          ],
          "name": "stdout"
        }
      ]
    },
    {
      "cell_type": "code",
      "metadata": {
        "id": "S7mk0qi_KPKC",
        "colab_type": "code",
        "outputId": "1021570a-39d4-4ea2-ba8a-d40248ee0294",
        "colab": {
          "base_uri": "https://localhost:8080/",
          "height": 68
        }
      },
      "source": [
        "!ls\n",
        "!pwd"
      ],
      "execution_count": 15,
      "outputs": [
        {
          "output_type": "stream",
          "text": [
            "all-data.csv\t   glove.6B.200d.txt  glove.6B.50d.txt\tsample_data\n",
            "glove.6B.100d.txt  glove.6B.300d.txt  glove.6B.zip\n",
            "/content\n"
          ],
          "name": "stdout"
        }
      ]
    },
    {
      "cell_type": "code",
      "metadata": {
        "id": "_sbWUz6eNwcC",
        "colab_type": "code",
        "colab": {}
      },
      "source": [
        "embeddings_index = {}\n",
        "f = open('glove.6B.100d.txt', encoding='utf-8')\n",
        "for line in f:\n",
        "    values = line.split()\n",
        "    word = values[0]\n",
        "    coefs = np.asarray(values[1:], dtype='float32')\n",
        "    embeddings_index[word] = coefs\n",
        "f.close()\n",
        "\n",
        "#(len(embeddings_index), shape=(400000,100))"
      ],
      "execution_count": 0,
      "outputs": []
    },
    {
      "cell_type": "code",
      "metadata": {
        "id": "ZAVL1m6GODaX",
        "colab_type": "code",
        "outputId": "90382439-2409-405e-e6f3-d653538b5d45",
        "colab": {
          "base_uri": "https://localhost:8080/",
          "height": 374
        }
      },
      "source": [
        "embeddings_index.get(\"career\")"
      ],
      "execution_count": 17,
      "outputs": [
        {
          "output_type": "execute_result",
          "data": {
            "text/plain": [
              "array([ 5.5668e-01, -3.6349e-01, -2.7505e-02, -5.5693e-02,  4.3287e-01,\n",
              "       -1.1270e-01,  5.1074e-01, -3.0207e-01, -9.6957e-01,  7.0382e-01,\n",
              "        4.2608e-01, -6.1908e-01,  2.8802e-01, -6.2842e-02, -4.7391e-01,\n",
              "        1.5677e-01,  9.0553e-01, -4.2574e-02,  9.6758e-02,  1.0923e+00,\n",
              "       -5.4759e-02,  7.2411e-01,  6.5144e-02,  1.8919e-01,  9.4574e-01,\n",
              "       -5.1552e-01, -4.9121e-01, -6.7578e-01,  4.4609e-01, -6.1729e-02,\n",
              "       -1.2264e+00,  5.9508e-01, -5.8998e-02, -1.7081e-01, -7.6331e-01,\n",
              "       -6.7477e-02, -1.5773e+00,  2.7413e-01, -1.0334e+00,  6.8594e-01,\n",
              "        2.4986e-01, -4.1991e-02,  3.8075e-01, -2.7330e-01,  1.7265e-01,\n",
              "       -1.3121e-01,  8.7280e-01, -1.1695e+00,  4.3998e-01, -7.3655e-01,\n",
              "       -3.3621e-01, -8.0681e-01, -1.8578e-01,  1.3991e+00,  7.0109e-01,\n",
              "       -2.5181e+00, -1.7721e-01, -1.1897e-01,  7.8810e-01,  1.6106e+00,\n",
              "       -3.5249e-01,  7.2467e-01, -2.1828e-01,  1.0189e-01,  1.9432e-02,\n",
              "        3.4907e-02,  8.6540e-01, -3.1430e-01, -1.4712e-01,  5.6799e-01,\n",
              "        1.0748e-01,  4.0322e-01, -4.7583e-01, -1.4558e-01,  1.1686e-01,\n",
              "       -8.8831e-02, -5.8210e-01, -7.9539e-02, -3.1308e-01, -6.1418e-01,\n",
              "       -4.2042e-04,  9.0681e-01,  7.2010e-01, -1.1412e-01, -1.3881e+00,\n",
              "       -1.6673e-01, -2.5951e-01, -7.1311e-01, -2.6689e-01, -4.3631e-01,\n",
              "       -5.7900e-01,  7.8623e-02, -6.6949e-02,  1.5166e-01, -3.9838e-01,\n",
              "        1.8220e-02, -3.9801e-01,  1.7769e-01,  1.5305e-01,  3.7861e-01],\n",
              "      dtype=float32)"
            ]
          },
          "metadata": {
            "tags": []
          },
          "execution_count": 17
        }
      ]
    },
    {
      "cell_type": "markdown",
      "metadata": {
        "id": "EodvE1KugI3S",
        "colab_type": "text"
      },
      "source": [
        "### **Creating Word Embeddings**"
      ]
    },
    {
      "cell_type": "code",
      "metadata": {
        "id": "TTNzwNQJPfX4",
        "colab_type": "code",
        "outputId": "8f71a0a0-8adc-4efb-f5d5-76ed53ac92e3",
        "colab": {
          "base_uri": "https://localhost:8080/",
          "height": 34
        }
      },
      "source": [
        "#tokenization\n",
        "num_words=len(embeddings_index)\n",
        "\n",
        "tk = Tokenizer(num_words=num_words, split=\" \", lower=True)\n",
        "tk.fit_on_texts(X)\n",
        "X_seq = tk.texts_to_sequences(X)\n",
        "\n",
        "#creating word to index dictionary \n",
        "word_index=tk.word_index\n",
        "word_index[\"job\"]"
      ],
      "execution_count": 18,
      "outputs": [
        {
          "output_type": "execute_result",
          "data": {
            "text/plain": [
              "377"
            ]
          },
          "metadata": {
            "tags": []
          },
          "execution_count": 18
        }
      ]
    },
    {
      "cell_type": "code",
      "metadata": {
        "id": "6KYXXB4OngvS",
        "colab_type": "code",
        "colab": {}
      },
      "source": [
        "#finding max length of text\n",
        "MAX_LEN=0\n",
        "for i in range(len(X)):\n",
        "  num=len(X[i].split())\n",
        "  if num>MAX_LEN:\n",
        "    MAX_LEN=num\n",
        "\n",
        "#padding\n",
        "X_seq_trunc = pad_sequences(X_seq, maxlen=MAX_LEN)    \n"
      ],
      "execution_count": 0,
      "outputs": []
    },
    {
      "cell_type": "code",
      "metadata": {
        "id": "LVmrTKOaRM06",
        "colab_type": "code",
        "colab": {}
      },
      "source": [
        "#creating word embeddings (embed_matrix)\n",
        "embed_dim=100\n",
        "embed_matrix=np.zeros((num_words+1,embed_dim))\n",
        "\n",
        "\n",
        "for word, i in word_index.items():\n",
        "    if i >= num_words: continue\n",
        "    embedding_vector = embeddings_index.get(word)\n",
        "    if embedding_vector is not None: embed_matrix[i] = embedding_vector\n",
        "\n",
        "#embed_matrix.shape - (400001, 100)\n",
        "   "
      ],
      "execution_count": 0,
      "outputs": []
    },
    {
      "cell_type": "code",
      "metadata": {
        "id": "MAC4DtiQQD-A",
        "colab_type": "code",
        "colab": {}
      },
      "source": [
        "#creating categorical output\n",
        "y_onehot=pd.get_dummies(y)\n",
        "\n",
        "\n",
        "#X_seq_trunc.shape,y_onehot.shape - ((4846, 41), (4846, 3))"
      ],
      "execution_count": 0,
      "outputs": []
    },
    {
      "cell_type": "markdown",
      "metadata": {
        "id": "UoVGOC42gw_-",
        "colab_type": "text"
      },
      "source": [
        "### **Train-Test Split**"
      ]
    },
    {
      "cell_type": "code",
      "metadata": {
        "id": "O2hQ2cFcTlw2",
        "colab_type": "code",
        "colab": {}
      },
      "source": [
        "from sklearn.model_selection import train_test_split\n",
        "x_train, x_test, y_train, y_test = train_test_split(X_seq_trunc, y_onehot, test_size=0.15, random_state=17)"
      ],
      "execution_count": 0,
      "outputs": []
    },
    {
      "cell_type": "code",
      "metadata": {
        "id": "xLM41WH2PfoX",
        "colab_type": "code",
        "outputId": "f4087ac3-cc0b-4087-decb-d85681e432ba",
        "colab": {
          "base_uri": "https://localhost:8080/",
          "height": 1000
        }
      },
      "source": [
        "random.seed(17)\n",
        "\n",
        "model=models.Sequential()\n",
        "model.add(layers.Embedding(num_words+1,embed_dim, embeddings_initializer=keras.initializers.constant(embed_matrix), input_length= MAX_LEN, trainable=False))\n",
        "model.add(layers.LSTM(64, dropout=0.5, return_sequences=True))\n",
        "model.add(layers.LSTM(64, dropout=0.5, return_sequences=False))\n",
        "model.add(layers.Dropout(0.5))\n",
        "model.add(layers.Dense(units =3 , activation=\"softmax\"))\n",
        "\n",
        "opt=keras.optimizers.Adam(lr=0.01)\n",
        "model.compile(loss=\"categorical_crossentropy\",optimizer=opt,metrics=[\"accuracy\"])\n",
        "\n",
        "history=model.fit(x_train,y_train,epochs=100,batch_size=256,validation_data=(x_test,y_test))\n",
        "\n"
      ],
      "execution_count": 23,
      "outputs": [
        {
          "output_type": "stream",
          "text": [
            "Train on 4119 samples, validate on 727 samples\n",
            "Epoch 1/100\n",
            "4119/4119 [==============================] - 6s 1ms/step - loss: 0.9355 - accuracy: 0.5815 - val_loss: 0.8156 - val_accuracy: 0.6589\n",
            "Epoch 2/100\n",
            "4119/4119 [==============================] - 4s 913us/step - loss: 0.8415 - accuracy: 0.6363 - val_loss: 0.7847 - val_accuracy: 0.6644\n",
            "Epoch 3/100\n",
            "4119/4119 [==============================] - 4s 908us/step - loss: 0.8127 - accuracy: 0.6332 - val_loss: 0.7524 - val_accuracy: 0.6726\n",
            "Epoch 4/100\n",
            "4119/4119 [==============================] - 3s 832us/step - loss: 0.7832 - accuracy: 0.6485 - val_loss: 0.7359 - val_accuracy: 0.6768\n",
            "Epoch 5/100\n",
            "4119/4119 [==============================] - 4s 859us/step - loss: 0.7652 - accuracy: 0.6511 - val_loss: 0.7267 - val_accuracy: 0.6850\n",
            "Epoch 6/100\n",
            "4119/4119 [==============================] - 4s 858us/step - loss: 0.7474 - accuracy: 0.6676 - val_loss: 0.6873 - val_accuracy: 0.6974\n",
            "Epoch 7/100\n",
            "4119/4119 [==============================] - 3s 836us/step - loss: 0.7340 - accuracy: 0.6689 - val_loss: 0.6820 - val_accuracy: 0.6960\n",
            "Epoch 8/100\n",
            "4119/4119 [==============================] - 4s 924us/step - loss: 0.7145 - accuracy: 0.6756 - val_loss: 0.6762 - val_accuracy: 0.7194\n",
            "Epoch 9/100\n",
            "4119/4119 [==============================] - 4s 896us/step - loss: 0.7131 - accuracy: 0.6929 - val_loss: 0.6359 - val_accuracy: 0.7180\n",
            "Epoch 10/100\n",
            "4119/4119 [==============================] - 4s 875us/step - loss: 0.6911 - accuracy: 0.6990 - val_loss: 0.6473 - val_accuracy: 0.7166\n",
            "Epoch 11/100\n",
            "4119/4119 [==============================] - 4s 961us/step - loss: 0.6708 - accuracy: 0.7109 - val_loss: 0.6337 - val_accuracy: 0.7263\n",
            "Epoch 12/100\n",
            "4119/4119 [==============================] - 4s 901us/step - loss: 0.6605 - accuracy: 0.7160 - val_loss: 0.5994 - val_accuracy: 0.7565\n",
            "Epoch 13/100\n",
            "4119/4119 [==============================] - 4s 887us/step - loss: 0.6579 - accuracy: 0.7186 - val_loss: 0.5972 - val_accuracy: 0.7400\n",
            "Epoch 14/100\n",
            "4119/4119 [==============================] - 4s 857us/step - loss: 0.6484 - accuracy: 0.7172 - val_loss: 0.6146 - val_accuracy: 0.7483\n",
            "Epoch 15/100\n",
            "4119/4119 [==============================] - 4s 873us/step - loss: 0.6494 - accuracy: 0.7259 - val_loss: 0.6155 - val_accuracy: 0.7359\n",
            "Epoch 16/100\n",
            "4119/4119 [==============================] - 3s 845us/step - loss: 0.6316 - accuracy: 0.7351 - val_loss: 0.6009 - val_accuracy: 0.7607\n",
            "Epoch 17/100\n",
            "4119/4119 [==============================] - 4s 851us/step - loss: 0.6190 - accuracy: 0.7366 - val_loss: 0.5848 - val_accuracy: 0.7442\n",
            "Epoch 18/100\n",
            "4119/4119 [==============================] - 4s 860us/step - loss: 0.6179 - accuracy: 0.7400 - val_loss: 0.6003 - val_accuracy: 0.7469\n",
            "Epoch 19/100\n",
            "4119/4119 [==============================] - 4s 964us/step - loss: 0.6112 - accuracy: 0.7478 - val_loss: 0.5745 - val_accuracy: 0.7675\n",
            "Epoch 20/100\n",
            "4119/4119 [==============================] - 4s 871us/step - loss: 0.6062 - accuracy: 0.7475 - val_loss: 0.5703 - val_accuracy: 0.7703\n",
            "Epoch 21/100\n",
            "4119/4119 [==============================] - 4s 942us/step - loss: 0.6145 - accuracy: 0.7439 - val_loss: 0.5838 - val_accuracy: 0.7565\n",
            "Epoch 22/100\n",
            "4119/4119 [==============================] - 4s 974us/step - loss: 0.5882 - accuracy: 0.7669 - val_loss: 0.5833 - val_accuracy: 0.7565\n",
            "Epoch 23/100\n",
            "4119/4119 [==============================] - 4s 1ms/step - loss: 0.5782 - accuracy: 0.7533 - val_loss: 0.5734 - val_accuracy: 0.7648\n",
            "Epoch 24/100\n",
            "4119/4119 [==============================] - 4s 870us/step - loss: 0.5852 - accuracy: 0.7558 - val_loss: 0.5744 - val_accuracy: 0.7620\n",
            "Epoch 25/100\n",
            "4119/4119 [==============================] - 3s 829us/step - loss: 0.5694 - accuracy: 0.7664 - val_loss: 0.5756 - val_accuracy: 0.7565\n",
            "Epoch 26/100\n",
            "4119/4119 [==============================] - 4s 870us/step - loss: 0.5637 - accuracy: 0.7674 - val_loss: 0.5513 - val_accuracy: 0.7634\n",
            "Epoch 27/100\n",
            "4119/4119 [==============================] - 4s 981us/step - loss: 0.5570 - accuracy: 0.7630 - val_loss: 0.5696 - val_accuracy: 0.7717\n",
            "Epoch 28/100\n",
            "4119/4119 [==============================] - 4s 872us/step - loss: 0.5580 - accuracy: 0.7667 - val_loss: 0.6057 - val_accuracy: 0.7538\n",
            "Epoch 29/100\n",
            "4119/4119 [==============================] - 4s 888us/step - loss: 0.5653 - accuracy: 0.7647 - val_loss: 0.5745 - val_accuracy: 0.7772\n",
            "Epoch 30/100\n",
            "4119/4119 [==============================] - 4s 900us/step - loss: 0.5625 - accuracy: 0.7677 - val_loss: 0.5669 - val_accuracy: 0.7538\n",
            "Epoch 31/100\n",
            "4119/4119 [==============================] - 4s 868us/step - loss: 0.5556 - accuracy: 0.7679 - val_loss: 0.5825 - val_accuracy: 0.7552\n",
            "Epoch 32/100\n",
            "4119/4119 [==============================] - 4s 853us/step - loss: 0.5459 - accuracy: 0.7713 - val_loss: 0.5845 - val_accuracy: 0.7593\n",
            "Epoch 33/100\n",
            "4119/4119 [==============================] - 3s 838us/step - loss: 0.5441 - accuracy: 0.7754 - val_loss: 0.5860 - val_accuracy: 0.7497\n",
            "Epoch 34/100\n",
            "4119/4119 [==============================] - 4s 886us/step - loss: 0.5447 - accuracy: 0.7800 - val_loss: 0.5872 - val_accuracy: 0.7400\n",
            "Epoch 35/100\n",
            "4119/4119 [==============================] - 4s 875us/step - loss: 0.5436 - accuracy: 0.7725 - val_loss: 0.5510 - val_accuracy: 0.7607\n",
            "Epoch 36/100\n",
            "4119/4119 [==============================] - 4s 879us/step - loss: 0.5243 - accuracy: 0.7786 - val_loss: 0.5833 - val_accuracy: 0.7730\n",
            "Epoch 37/100\n",
            "4119/4119 [==============================] - 3s 832us/step - loss: 0.5460 - accuracy: 0.7791 - val_loss: 0.5429 - val_accuracy: 0.7744\n",
            "Epoch 38/100\n",
            "4119/4119 [==============================] - 3s 843us/step - loss: 0.5261 - accuracy: 0.7907 - val_loss: 0.5657 - val_accuracy: 0.7634\n",
            "Epoch 39/100\n",
            "4119/4119 [==============================] - 4s 855us/step - loss: 0.5349 - accuracy: 0.7766 - val_loss: 0.5514 - val_accuracy: 0.7854\n",
            "Epoch 40/100\n",
            "4119/4119 [==============================] - 4s 855us/step - loss: 0.5283 - accuracy: 0.7859 - val_loss: 0.5603 - val_accuracy: 0.8006\n",
            "Epoch 41/100\n",
            "4119/4119 [==============================] - 3s 840us/step - loss: 0.5346 - accuracy: 0.7798 - val_loss: 0.5796 - val_accuracy: 0.7840\n",
            "Epoch 42/100\n",
            "4119/4119 [==============================] - 4s 894us/step - loss: 0.5427 - accuracy: 0.7781 - val_loss: 0.5633 - val_accuracy: 0.7744\n",
            "Epoch 43/100\n",
            "4119/4119 [==============================] - 4s 900us/step - loss: 0.5533 - accuracy: 0.7752 - val_loss: 0.5638 - val_accuracy: 0.7813\n",
            "Epoch 44/100\n",
            "4119/4119 [==============================] - 4s 965us/step - loss: 0.5404 - accuracy: 0.7791 - val_loss: 0.5603 - val_accuracy: 0.7662\n",
            "Epoch 45/100\n",
            "4119/4119 [==============================] - 4s 870us/step - loss: 0.5342 - accuracy: 0.7769 - val_loss: 0.5651 - val_accuracy: 0.7648\n",
            "Epoch 46/100\n",
            "4119/4119 [==============================] - 4s 892us/step - loss: 0.5421 - accuracy: 0.7815 - val_loss: 0.5736 - val_accuracy: 0.7703\n",
            "Epoch 47/100\n",
            "4119/4119 [==============================] - 4s 897us/step - loss: 0.5363 - accuracy: 0.7844 - val_loss: 0.5944 - val_accuracy: 0.7620\n",
            "Epoch 48/100\n",
            "4119/4119 [==============================] - 4s 905us/step - loss: 0.5192 - accuracy: 0.7927 - val_loss: 0.5662 - val_accuracy: 0.7813\n",
            "Epoch 49/100\n",
            "4119/4119 [==============================] - 4s 920us/step - loss: 0.5291 - accuracy: 0.7883 - val_loss: 0.5765 - val_accuracy: 0.7772\n",
            "Epoch 50/100\n",
            "4119/4119 [==============================] - 4s 1ms/step - loss: 0.5094 - accuracy: 0.7968 - val_loss: 0.5812 - val_accuracy: 0.7813\n",
            "Epoch 51/100\n",
            "4119/4119 [==============================] - 4s 872us/step - loss: 0.5233 - accuracy: 0.7902 - val_loss: 0.5568 - val_accuracy: 0.7909\n",
            "Epoch 52/100\n",
            "4119/4119 [==============================] - 4s 859us/step - loss: 0.5299 - accuracy: 0.7715 - val_loss: 0.5766 - val_accuracy: 0.7813\n",
            "Epoch 53/100\n",
            "4119/4119 [==============================] - 4s 891us/step - loss: 0.5128 - accuracy: 0.7861 - val_loss: 0.5987 - val_accuracy: 0.7730\n",
            "Epoch 54/100\n",
            "4119/4119 [==============================] - 4s 855us/step - loss: 0.5078 - accuracy: 0.7941 - val_loss: 0.6089 - val_accuracy: 0.7785\n",
            "Epoch 55/100\n",
            "4119/4119 [==============================] - 4s 857us/step - loss: 0.5133 - accuracy: 0.7924 - val_loss: 0.5700 - val_accuracy: 0.7703\n",
            "Epoch 56/100\n",
            "4119/4119 [==============================] - 4s 891us/step - loss: 0.5201 - accuracy: 0.7805 - val_loss: 0.5639 - val_accuracy: 0.7648\n",
            "Epoch 57/100\n",
            "4119/4119 [==============================] - 4s 874us/step - loss: 0.5130 - accuracy: 0.7917 - val_loss: 0.5599 - val_accuracy: 0.7827\n",
            "Epoch 58/100\n",
            "4119/4119 [==============================] - 3s 843us/step - loss: 0.5059 - accuracy: 0.8021 - val_loss: 0.5691 - val_accuracy: 0.7717\n",
            "Epoch 59/100\n",
            "4119/4119 [==============================] - 4s 881us/step - loss: 0.5076 - accuracy: 0.7946 - val_loss: 0.5509 - val_accuracy: 0.7758\n",
            "Epoch 60/100\n",
            "4119/4119 [==============================] - 4s 863us/step - loss: 0.4993 - accuracy: 0.8009 - val_loss: 0.5804 - val_accuracy: 0.7703\n",
            "Epoch 61/100\n",
            "4119/4119 [==============================] - 3s 837us/step - loss: 0.4931 - accuracy: 0.8026 - val_loss: 0.5829 - val_accuracy: 0.7730\n",
            "Epoch 62/100\n",
            "4119/4119 [==============================] - 3s 847us/step - loss: 0.5020 - accuracy: 0.8021 - val_loss: 0.5712 - val_accuracy: 0.7717\n",
            "Epoch 63/100\n",
            "4119/4119 [==============================] - 4s 860us/step - loss: 0.5211 - accuracy: 0.7907 - val_loss: 0.5740 - val_accuracy: 0.7758\n",
            "Epoch 64/100\n",
            "4119/4119 [==============================] - 4s 923us/step - loss: 0.4992 - accuracy: 0.8000 - val_loss: 0.5824 - val_accuracy: 0.7785\n",
            "Epoch 65/100\n",
            "4119/4119 [==============================] - 4s 870us/step - loss: 0.5109 - accuracy: 0.7968 - val_loss: 0.5884 - val_accuracy: 0.7772\n",
            "Epoch 66/100\n",
            "4119/4119 [==============================] - 4s 859us/step - loss: 0.5192 - accuracy: 0.7910 - val_loss: 0.5822 - val_accuracy: 0.7785\n",
            "Epoch 67/100\n",
            "4119/4119 [==============================] - 4s 900us/step - loss: 0.4900 - accuracy: 0.8017 - val_loss: 0.5836 - val_accuracy: 0.7882\n",
            "Epoch 68/100\n",
            "4119/4119 [==============================] - 4s 865us/step - loss: 0.4880 - accuracy: 0.8060 - val_loss: 0.5677 - val_accuracy: 0.7909\n",
            "Epoch 69/100\n",
            "4119/4119 [==============================] - 4s 857us/step - loss: 0.4791 - accuracy: 0.8048 - val_loss: 0.5698 - val_accuracy: 0.7868\n",
            "Epoch 70/100\n",
            "4119/4119 [==============================] - 4s 890us/step - loss: 0.4902 - accuracy: 0.8024 - val_loss: 0.5828 - val_accuracy: 0.7868\n",
            "Epoch 71/100\n",
            "4119/4119 [==============================] - 3s 847us/step - loss: 0.4733 - accuracy: 0.8084 - val_loss: 0.5925 - val_accuracy: 0.7785\n",
            "Epoch 72/100\n",
            "4119/4119 [==============================] - 4s 925us/step - loss: 0.4947 - accuracy: 0.7946 - val_loss: 0.5863 - val_accuracy: 0.7785\n",
            "Epoch 73/100\n",
            "4119/4119 [==============================] - 4s 911us/step - loss: 0.4975 - accuracy: 0.8014 - val_loss: 0.6025 - val_accuracy: 0.7565\n",
            "Epoch 74/100\n",
            "4119/4119 [==============================] - 3s 848us/step - loss: 0.4965 - accuracy: 0.8002 - val_loss: 0.5826 - val_accuracy: 0.7689\n",
            "Epoch 75/100\n",
            "4119/4119 [==============================] - 4s 890us/step - loss: 0.4979 - accuracy: 0.8002 - val_loss: 0.5908 - val_accuracy: 0.7648\n",
            "Epoch 76/100\n",
            "4119/4119 [==============================] - 4s 863us/step - loss: 0.4917 - accuracy: 0.8024 - val_loss: 0.5860 - val_accuracy: 0.7868\n",
            "Epoch 77/100\n",
            "4119/4119 [==============================] - 4s 870us/step - loss: 0.4957 - accuracy: 0.7980 - val_loss: 0.5944 - val_accuracy: 0.7827\n",
            "Epoch 78/100\n",
            "4119/4119 [==============================] - 4s 892us/step - loss: 0.4939 - accuracy: 0.8072 - val_loss: 0.5597 - val_accuracy: 0.7895\n",
            "Epoch 79/100\n",
            "4119/4119 [==============================] - 4s 917us/step - loss: 0.4981 - accuracy: 0.8041 - val_loss: 0.5697 - val_accuracy: 0.7730\n",
            "Epoch 80/100\n",
            "4119/4119 [==============================] - 4s 896us/step - loss: 0.4927 - accuracy: 0.8063 - val_loss: 0.5812 - val_accuracy: 0.7744\n",
            "Epoch 81/100\n",
            "4119/4119 [==============================] - 4s 853us/step - loss: 0.4782 - accuracy: 0.8038 - val_loss: 0.6020 - val_accuracy: 0.7634\n",
            "Epoch 82/100\n",
            "4119/4119 [==============================] - 4s 922us/step - loss: 0.4907 - accuracy: 0.7975 - val_loss: 0.5849 - val_accuracy: 0.7703\n",
            "Epoch 83/100\n",
            "4119/4119 [==============================] - 4s 877us/step - loss: 0.4569 - accuracy: 0.8152 - val_loss: 0.6193 - val_accuracy: 0.7689\n",
            "Epoch 84/100\n",
            "4119/4119 [==============================] - 4s 892us/step - loss: 0.4716 - accuracy: 0.8160 - val_loss: 0.6001 - val_accuracy: 0.7923\n",
            "Epoch 85/100\n",
            "4119/4119 [==============================] - 4s 873us/step - loss: 0.4720 - accuracy: 0.8043 - val_loss: 0.6057 - val_accuracy: 0.7717\n",
            "Epoch 86/100\n",
            "4119/4119 [==============================] - 4s 858us/step - loss: 0.4797 - accuracy: 0.7985 - val_loss: 0.6251 - val_accuracy: 0.7772\n",
            "Epoch 87/100\n",
            "4119/4119 [==============================] - 4s 923us/step - loss: 0.4770 - accuracy: 0.8104 - val_loss: 0.6245 - val_accuracy: 0.7648\n",
            "Epoch 88/100\n",
            "4119/4119 [==============================] - 4s 949us/step - loss: 0.4693 - accuracy: 0.8133 - val_loss: 0.6276 - val_accuracy: 0.7717\n",
            "Epoch 89/100\n",
            "4119/4119 [==============================] - 4s 860us/step - loss: 0.4832 - accuracy: 0.8004 - val_loss: 0.6234 - val_accuracy: 0.7854\n",
            "Epoch 90/100\n",
            "4119/4119 [==============================] - 4s 871us/step - loss: 0.4787 - accuracy: 0.8036 - val_loss: 0.6028 - val_accuracy: 0.7703\n",
            "Epoch 91/100\n",
            "4119/4119 [==============================] - 4s 872us/step - loss: 0.4780 - accuracy: 0.8167 - val_loss: 0.5948 - val_accuracy: 0.7703\n",
            "Epoch 92/100\n",
            "4119/4119 [==============================] - 4s 861us/step - loss: 0.4654 - accuracy: 0.8157 - val_loss: 0.6014 - val_accuracy: 0.7675\n",
            "Epoch 93/100\n",
            "4119/4119 [==============================] - 4s 906us/step - loss: 0.4753 - accuracy: 0.8116 - val_loss: 0.6033 - val_accuracy: 0.7730\n",
            "Epoch 94/100\n",
            "4119/4119 [==============================] - 4s 944us/step - loss: 0.4816 - accuracy: 0.8046 - val_loss: 0.6023 - val_accuracy: 0.7882\n",
            "Epoch 95/100\n",
            "4119/4119 [==============================] - 4s 873us/step - loss: 0.4703 - accuracy: 0.8109 - val_loss: 0.6200 - val_accuracy: 0.7937\n",
            "Epoch 96/100\n",
            "4119/4119 [==============================] - 4s 862us/step - loss: 0.4827 - accuracy: 0.8082 - val_loss: 0.5853 - val_accuracy: 0.7840\n",
            "Epoch 97/100\n",
            "4119/4119 [==============================] - 4s 969us/step - loss: 0.4654 - accuracy: 0.8160 - val_loss: 0.5946 - val_accuracy: 0.7840\n",
            "Epoch 98/100\n",
            "4119/4119 [==============================] - 4s 863us/step - loss: 0.4722 - accuracy: 0.8053 - val_loss: 0.6076 - val_accuracy: 0.7799\n",
            "Epoch 99/100\n",
            "4119/4119 [==============================] - 4s 875us/step - loss: 0.4593 - accuracy: 0.8126 - val_loss: 0.6327 - val_accuracy: 0.7634\n",
            "Epoch 100/100\n",
            "4119/4119 [==============================] - 4s 882us/step - loss: 0.4653 - accuracy: 0.8160 - val_loss: 0.6095 - val_accuracy: 0.7827\n"
          ],
          "name": "stdout"
        }
      ]
    },
    {
      "cell_type": "code",
      "metadata": {
        "id": "3AtmJ2zcgm6m",
        "colab_type": "code",
        "colab": {
          "base_uri": "https://localhost:8080/",
          "height": 607
        },
        "outputId": "39c9a8e3-6687-4932-d6f1-7989a2d67ccb"
      },
      "source": [
        "# summarize history for accuracy\n",
        "plt.plot(history.history['accuracy'])\n",
        "plt.plot(history.history['val_accuracy'])\n",
        "plt.title('model accuracy')\n",
        "plt.ylabel('accuracy')\n",
        "plt.xlabel('epoch')\n",
        "plt.legend(['train', 'test'], loc='upper left')\n",
        "plt.show()\n",
        "# summarize history for loss\n",
        "plt.plot(history.history['loss'])\n",
        "plt.plot(history.history['val_loss'])\n",
        "plt.title('model loss')\n",
        "plt.ylabel('loss')\n",
        "plt.xlabel('epoch')\n",
        "plt.legend()"
      ],
      "execution_count": 24,
      "outputs": [
        {
          "output_type": "display_data",
          "data": {
            "image/png": "[encoded data removed]",
            "text/plain": [
              "<Figure size 432x288 with 1 Axes>"
            ]
          },
          "metadata": {
            "tags": [],
            "needs_background": "light"
          }
        },
        {
          "output_type": "stream",
          "text": [
            "No handles with labels found to put in legend.\n"
          ],
          "name": "stderr"
        },
        {
          "output_type": "execute_result",
          "data": {
            "text/plain": [
              "<matplotlib.legend.Legend at 0x7ff6ca6f8e48>"
            ]
          },
          "metadata": {
            "tags": []
          },
          "execution_count": 24
        },
        {
          "output_type": "display_data",
          "data": {
            "image/png": "[encoded data removed]",
            "text/plain": [
              "<Figure size 432x288 with 1 Axes>"
            ]
          },
          "metadata": {
            "tags": [],
            "needs_background": "light"
          }
        }
      ]
    },
    {
      "cell_type": "code",
      "metadata": {
        "id": "KT3o8VFUxTGG",
        "colab_type": "code",
        "colab": {}
      },
      "source": [
        "pred=model.predict(x_test)\n",
        "\n",
        "prediction=pred\n",
        "for i in range(len(prediction)):\n",
        "  j= prediction[i].argmax()\n",
        "  for k in range(3):\n",
        "    if k==j:\n",
        "      prediction[i][k]=1\n",
        "    else:\n",
        "      prediction[i][k]=0 "
      ],
      "execution_count": 0,
      "outputs": []
    },
    {
      "cell_type": "code",
      "metadata": {
        "id": "w1GdFujtx2JF",
        "colab_type": "code",
        "colab": {
          "base_uri": "https://localhost:8080/",
          "height": 51
        },
        "outputId": "2768d1fe-569e-4aea-d6d2-256932af8f5d"
      },
      "source": [
        "from sklearn.metrics import accuracy_score, mean_squared_error\n",
        "\n",
        "print(\"Accuracy score = \" + str(round(accuracy_score(y_test,prediction),2)))\n",
        "print(\"Mean Square Error = \" + str(round(mean_squared_error(y_test,prediction),2)))\n",
        "\n",
        "\n"
      ],
      "execution_count": 26,
      "outputs": [
        {
          "output_type": "stream",
          "text": [
            "Accuracy score = 0.78\n",
            "Mean Square Error = 0.14\n"
          ],
          "name": "stdout"
        }
      ]
    }
  ]
}